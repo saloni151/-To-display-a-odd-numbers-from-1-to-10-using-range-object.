{
 "cells": [
  {
   "cell_type": "markdown",
   "id": "ee923802-005a-441a-8c45-ef9847df3add",
   "metadata": {},
   "source": [
    "**Write a python program to display a odd numbers from 1 to 10 using range() object.**"
   ]
  },
  {
   "cell_type": "code",
   "execution_count": 3,
   "id": "f34bb44a-90bf-450a-b33a-0cad02a60f11",
   "metadata": {},
   "outputs": [
    {
     "name": "stdout",
     "output_type": "stream",
     "text": [
      "1\n",
      "3\n",
      "5\n",
      "7\n",
      "9\n"
     ]
    }
   ],
   "source": [
    "#to display odd numbers from 1 to 10\n",
    "for i in range(1,10,2):\n",
    "    print(i)"
   ]
  },
  {
   "cell_type": "code",
   "execution_count": null,
   "id": "fbf4b56c-4285-4603-a8a4-435ae081fae3",
   "metadata": {},
   "outputs": [],
   "source": []
  },
  {
   "cell_type": "code",
   "execution_count": null,
   "id": "187f4614-7f65-4240-a9ba-ed39196a5b57",
   "metadata": {},
   "outputs": [],
   "source": []
  },
  {
   "cell_type": "code",
   "execution_count": null,
   "id": "52adff71-4fd1-4201-b319-09fe513843b3",
   "metadata": {},
   "outputs": [],
   "source": []
  },
  {
   "cell_type": "code",
   "execution_count": null,
   "id": "f4ac3829-c11d-4138-b9ca-ac6cd471b25b",
   "metadata": {},
   "outputs": [],
   "source": []
  }
 ],
 "metadata": {
  "kernelspec": {
   "display_name": "Python 3 (ipykernel)",
   "language": "python",
   "name": "python3"
  },
  "language_info": {
   "codemirror_mode": {
    "name": "ipython",
    "version": 3
   },
   "file_extension": ".py",
   "mimetype": "text/x-python",
   "name": "python",
   "nbconvert_exporter": "python",
   "pygments_lexer": "ipython3",
   "version": "3.12.7"
  }
 },
 "nbformat": 4,
 "nbformat_minor": 5
}
